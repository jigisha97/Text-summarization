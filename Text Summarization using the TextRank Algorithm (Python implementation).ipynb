{
 "cells": [
  {
   "cell_type": "code",
   "execution_count": 1,
   "metadata": {},
   "outputs": [
    {
     "name": "stderr",
     "output_type": "stream",
     "text": [
      "[nltk_data] Downloading package punkt to\n",
      "[nltk_data]     /Users/shashankshivam/nltk_data...\n",
      "[nltk_data]   Package punkt is already up-to-date!\n"
     ]
    }
   ],
   "source": [
    "import numpy as np\n",
    "import pandas as pd\n",
    "import nltk \n",
    "nltk.download('punkt')\n",
    "import re"
   ]
  },
  {
   "cell_type": "code",
   "execution_count": 2,
   "metadata": {},
   "outputs": [],
   "source": [
    "df = pd.read_csv('/Users/shashankshivam/Desktop/tennis_articles_v4.csv')"
   ]
  },
  {
   "cell_type": "code",
   "execution_count": 3,
   "metadata": {},
   "outputs": [
    {
     "data": {
      "text/html": [
       "<div>\n",
       "<style scoped>\n",
       "    .dataframe tbody tr th:only-of-type {\n",
       "        vertical-align: middle;\n",
       "    }\n",
       "\n",
       "    .dataframe tbody tr th {\n",
       "        vertical-align: top;\n",
       "    }\n",
       "\n",
       "    .dataframe thead th {\n",
       "        text-align: right;\n",
       "    }\n",
       "</style>\n",
       "<table border=\"1\" class=\"dataframe\">\n",
       "  <thead>\n",
       "    <tr style=\"text-align: right;\">\n",
       "      <th></th>\n",
       "      <th>article_text</th>\n",
       "    </tr>\n",
       "  </thead>\n",
       "  <tbody>\n",
       "    <tr>\n",
       "      <th>0</th>\n",
       "      <td>Indian Constitution is one the most efficient ...</td>\n",
       "    </tr>\n",
       "  </tbody>\n",
       "</table>\n",
       "</div>"
      ],
      "text/plain": [
       "                                        article_text\n",
       "0  Indian Constitution is one the most efficient ..."
      ]
     },
     "execution_count": 3,
     "metadata": {},
     "output_type": "execute_result"
    }
   ],
   "source": [
    "df"
   ]
  },
  {
   "cell_type": "code",
   "execution_count": 4,
   "metadata": {},
   "outputs": [],
   "source": [
    "#spliting into sentences\n",
    "from nltk.tokenize import sent_tokenize\n",
    "sentences = []\n",
    "for s in df['article_text']:\n",
    "    sentences.append(sent_tokenize(s))\n",
    "    \n",
    "sentences = [y for x in sentences for y in x]"
   ]
  },
  {
   "cell_type": "code",
   "execution_count": 5,
   "metadata": {},
   "outputs": [
    {
     "data": {
      "text/plain": [
       "['Indian Constitution is one the most efficient written Constitution that any country has ever produce.',\n",
       " 'It is a mixture of various other Constitutions, the Constitution makers had to be very prudent while making the draft of the Constitution because of the diversity India contains inside.',\n",
       " 'Every State in India is unique and has its own diversity\\nBut the most beautiful and the most diverse and focus attracting State is in the Northern and of the country India.',\n",
       " 'Article 370 talks about the special status that has been given to the State of Jammu and Kashmir.',\n",
       " 'This purpose of this paper is intended towards exploring a lot of puzzling questions, starting from the history of Jammu and Kashmir, towards what was the need to incorporate this Article what circumstances led to the introduction of this Article, why this Article has been a controversial subject, also this paper would and ending with the conclusion which will tell us that the existence of Article 370 should be supported or not, in all Article 370would be dealt in every important aspect.',\n",
       " 'Introduction\\nThe present study is aimed to trace the process of federalization in India and the inclusion of special provisions for the Jammu and Kashmir state embodied in Article 370 of the constitution of India.',\n",
       " 'Since Jammu and Kashmir presents a variant of the federal structure in which the Indian States were welded, the present study is expected to provide a perspective for the future evolution of the federal frames which the founding fathers of the constitution of India constructed.',\n",
       " 'Inrecent years there has been insistent emphasis on the recognition of sub-national diversities of India as components of the Indian federal system.',\n",
       " 'The present study, which is focused on the analysis of the constitutional placement of Jammu and Kashmir in the Indian federal structure, as a sub- national identity, reveals much and can serve as an indicator for any reconsideration of the federal relations the constitution of India embodies.',\n",
       " 'Important features of article 370 of Indian constitution\\nAs per Indian constitution Article 370 provides temporary provision to the state of Jammu and Kashmir granting it a special status and a constitutional aspects called autonomy.',\n",
       " 'Some of the important features of Article 370 in relation with the state of Jammu and Kashmir are explain in following points.',\n",
       " 'The Article says that the provision of Article 238, which\\n\\x0cwas omitted from constitution in 1956 during the seventh constitution amendment when Indian state were reorganized, shall not apply to the state of J&K.',\n",
       " 'this is to note that Article 238 deals with 9 part b state of free India which were the princely states of British India.',\n",
       " 'Doctor Dr B R Ambedkar who was the chairman of drafting committee of Indian constitution was against Article 370 the matter became the political prestige of\\nJawaharlal Nehru, In 1949, then prime minister who eventually directed Gopal Swami Ayyangar who was a minister without portfolio in first cabinet of India to draft Article 370 in consultation with sheikh Abdullah this is to note that Gopal swami Ayyangar was the Former Diwan to Maharaja Harris Singh of J&K and sheikh Abdullah was the influential mask leader of J&K state at that time.',\n",
       " 'Article 370 was drafted in amendment of constitution in part XXI under temporary and transitional provisions.',\n",
       " 'As per original draft of Article 370, the government of state means the person with organize by the president as the Maharaja of J&K for time being in office.',\n",
       " 'This was change in 1952 to government of state means the person\\n\\x0crecognize by the president upon recommendation of legislative assembly as Sardar-E-Riyasat (governor) for the timing in office.',\n",
       " 'Except for defence,foreign affairs and communication, all others laws passed by Indian Parliament need to be passed by the state government before they are made applicable This was specified in the instrument of accession signed by Maharaja Hari Singh When he agreed to join the union of India in 1947,instead of going with Pakistan\\nAs a result of this, the citizen of J&k are governed by state specific laws which come under the constitution of J&k, instead of those for the rest of India.',\n",
       " 'This Article along with Article5 that define the contours of Jurisdiction of Indian parliament regarding law making for the state, cannot be amended.',\n",
       " 'The 1952, Delhi agreement also specified that the state should have its own flag in addition to the union flag and they should have the same status.',\n",
       " 'Fig 3\\n\\nThis arrangement was further ratified by the 1974 agreement between Prime Minister Indira Gandhi and J&K Prime Minister Sheikh Abdullah (appointed by Hari Singh).',\n",
       " 'It was agreed that head of state called Sardar-I- Riyasat (or the prime minister) was to be elected by the state legislature.',\n",
       " 'Fig 2\\n\\n\\n\\nThe agreement opposed imposition of Article 352, empowering the president to proclaim general emergency in the state.',\n",
       " 'Problems\\nOnly a permanent resident can buy land in the state and citizens from other Indian other state face some restrictions.',\n",
       " 'It is not easy for outsider to operate their businesses here.',\n",
       " 'This help local resident in making more profit.it also reduces competition.',\n",
       " 'Outsider is not allow to make any kind of construction in J&K which contains prices of real estate if Article 370 is remove than the prices of property will go very high.',\n",
       " 'i.e.',\n",
       " 'a normal home which now cost RS70lakh will then cost Rs1crore approximately\\nIt has preserve and protect the ecology environment and biodiversity in J&K to some extent.',\n",
       " 'Government jobs are still available to residence of J&K.',\n",
       " 'Local brands are still running here due to less competition.',\n",
       " 'Maintains the status of J&K with union of India\\nLess crime rate and traffic but terrorist is high which is the main negative issue.',\n",
       " 'Less pollution as there are not very much industries i.e.',\n",
       " 'not giving any permission for opening new business and industries.',\n",
       " 'Maintain the inland quality.',\n",
       " 'Has to maintain Indian claims over Kashmir in world eye.',\n",
       " 'Cons\\nLack of medical facilities, no single private hospital in Jammu which include adjoining districts.',\n",
       " 'Terrorism in state is because of 370 and because Pakistan claims over Kashmir.',\n",
       " 'Lack of basic modern facilities like high speed internet, 24 hours electricity and 24 hours of water supply.',\n",
       " 'Less competition makes the progress of student slow and dull that means grow and development is low.',\n",
       " 'No opportunity for state student to appear in other state exam.',\n",
       " 'No industrial sector is available.',\n",
       " 'Jammu is always ignores in comparison to Kashmir just because it’s an international issue.',\n",
       " 'It has hindered the progress of our state to a large extent.',\n",
       " 'Corruption is much more in J&K than from others because of special status and laws.',\n",
       " 'Only Muslim can become chief minister of J&K, no Hindu can become chief minister of J&K.',\n",
       " 'It has reduce the participation of non-Muslim community in politics and other fares.',\n",
       " 'Education has suffered a lot due to this.',\n",
       " 'Less GDP as well as revenue i.e.',\n",
       " 'net income is less, growth is less, less jobs and unemployment are the major problem due to this Article.',\n",
       " 'Due to this youth can more participate in terrorism.',\n",
       " 'Lack of control on government of India and their policy on our state.',\n",
       " 'The main problem is gender base, many claim to have a negative thought about the Article 370 as it disqualifies women from the state of property rights.',\n",
       " 'However it is less known that the Article, itself was gender neutral but the definition of permanent resident in the state constitution based on the notification issued in April 1927 and June 1932 during the Maharaja rule was thought to be discriminatory.',\n",
       " 'Indian constitution deals with the special status given to the state of J&K.',\n",
       " 'J&K citizen have dual citizenship.',\n",
       " 'Jammu and Kashmir national flag is different.',\n",
       " 'Jammu and Kashmir legislative assembly term is 6 years whereas its 5years for the states of India.',\n",
       " 'The order of state of India are not valid in Jammu and Kashmir.',\n",
       " 'Parliament of India may makes laws in extremely limited areas in terms of Jammu and Kashmir.',\n",
       " 'In Jammu and Kashmir if a women’s marries a person of any other state of India, citizenship to the female ends.',\n",
       " 'If a women marries a man in other Indian states she loses her citizenship whereas if any women marry a Pakistani she will be entitle to have a citizenship of Jammu and Kashmir.',\n",
       " 'Outsider cannot own a land in Jammu and Kashmir because of section 370 RTI does not apply on Jammu and Kashmir, RTE is not implemented, CBI does not apply, Indian laws are not applicable.',\n",
       " 'Shariah law is applicable to women in Kashmir.',\n",
       " 'There are no rights to panchayat in Kashmir, minorities in Kashmir (Hindu, Sikh) does not get 16% reservation.',\n",
       " 'Indian parliament does not have any major rights over Kashmir it can only control issue of defence, international relation and communication.']"
      ]
     },
     "execution_count": 5,
     "metadata": {},
     "output_type": "execute_result"
    }
   ],
   "source": [
    "sentences"
   ]
  },
  {
   "cell_type": "code",
   "execution_count": 8,
   "metadata": {},
   "outputs": [],
   "source": [
    "# remove punctuations, numbers and special characters\n",
    "clean_sentences = pd.Series(sentences).str.replace(\"[^a-zA-Z]\", \" \")\n",
    "\n",
    "# make alphabets lowercase\n",
    "clean_sentences = [s.lower() for s in clean_sentences]"
   ]
  },
  {
   "cell_type": "code",
   "execution_count": 9,
   "metadata": {},
   "outputs": [
    {
     "name": "stderr",
     "output_type": "stream",
     "text": [
      "[nltk_data] Downloading package stopwords to\n",
      "[nltk_data]     /Users/shashankshivam/nltk_data...\n",
      "[nltk_data]   Package stopwords is already up-to-date!\n"
     ]
    },
    {
     "data": {
      "text/plain": [
       "True"
      ]
     },
     "execution_count": 9,
     "metadata": {},
     "output_type": "execute_result"
    }
   ],
   "source": [
    "nltk.download('stopwords')"
   ]
  },
  {
   "cell_type": "code",
   "execution_count": 10,
   "metadata": {},
   "outputs": [
    {
     "data": {
      "text/plain": [
       "['i',\n",
       " 'me',\n",
       " 'my',\n",
       " 'myself',\n",
       " 'we',\n",
       " 'our',\n",
       " 'ours',\n",
       " 'ourselves',\n",
       " 'you',\n",
       " \"you're\",\n",
       " \"you've\",\n",
       " \"you'll\",\n",
       " \"you'd\",\n",
       " 'your',\n",
       " 'yours',\n",
       " 'yourself',\n",
       " 'yourselves',\n",
       " 'he',\n",
       " 'him',\n",
       " 'his',\n",
       " 'himself',\n",
       " 'she',\n",
       " \"she's\",\n",
       " 'her',\n",
       " 'hers',\n",
       " 'herself',\n",
       " 'it',\n",
       " \"it's\",\n",
       " 'its',\n",
       " 'itself',\n",
       " 'they',\n",
       " 'them',\n",
       " 'their',\n",
       " 'theirs',\n",
       " 'themselves',\n",
       " 'what',\n",
       " 'which',\n",
       " 'who',\n",
       " 'whom',\n",
       " 'this',\n",
       " 'that',\n",
       " \"that'll\",\n",
       " 'these',\n",
       " 'those',\n",
       " 'am',\n",
       " 'is',\n",
       " 'are',\n",
       " 'was',\n",
       " 'were',\n",
       " 'be',\n",
       " 'been',\n",
       " 'being',\n",
       " 'have',\n",
       " 'has',\n",
       " 'had',\n",
       " 'having',\n",
       " 'do',\n",
       " 'does',\n",
       " 'did',\n",
       " 'doing',\n",
       " 'a',\n",
       " 'an',\n",
       " 'the',\n",
       " 'and',\n",
       " 'but',\n",
       " 'if',\n",
       " 'or',\n",
       " 'because',\n",
       " 'as',\n",
       " 'until',\n",
       " 'while',\n",
       " 'of',\n",
       " 'at',\n",
       " 'by',\n",
       " 'for',\n",
       " 'with',\n",
       " 'about',\n",
       " 'against',\n",
       " 'between',\n",
       " 'into',\n",
       " 'through',\n",
       " 'during',\n",
       " 'before',\n",
       " 'after',\n",
       " 'above',\n",
       " 'below',\n",
       " 'to',\n",
       " 'from',\n",
       " 'up',\n",
       " 'down',\n",
       " 'in',\n",
       " 'out',\n",
       " 'on',\n",
       " 'off',\n",
       " 'over',\n",
       " 'under',\n",
       " 'again',\n",
       " 'further',\n",
       " 'then',\n",
       " 'once',\n",
       " 'here',\n",
       " 'there',\n",
       " 'when',\n",
       " 'where',\n",
       " 'why',\n",
       " 'how',\n",
       " 'all',\n",
       " 'any',\n",
       " 'both',\n",
       " 'each',\n",
       " 'few',\n",
       " 'more',\n",
       " 'most',\n",
       " 'other',\n",
       " 'some',\n",
       " 'such',\n",
       " 'no',\n",
       " 'nor',\n",
       " 'not',\n",
       " 'only',\n",
       " 'own',\n",
       " 'same',\n",
       " 'so',\n",
       " 'than',\n",
       " 'too',\n",
       " 'very',\n",
       " 's',\n",
       " 't',\n",
       " 'can',\n",
       " 'will',\n",
       " 'just',\n",
       " 'don',\n",
       " \"don't\",\n",
       " 'should',\n",
       " \"should've\",\n",
       " 'now',\n",
       " 'd',\n",
       " 'll',\n",
       " 'm',\n",
       " 'o',\n",
       " 're',\n",
       " 've',\n",
       " 'y',\n",
       " 'ain',\n",
       " 'aren',\n",
       " \"aren't\",\n",
       " 'couldn',\n",
       " \"couldn't\",\n",
       " 'didn',\n",
       " \"didn't\",\n",
       " 'doesn',\n",
       " \"doesn't\",\n",
       " 'hadn',\n",
       " \"hadn't\",\n",
       " 'hasn',\n",
       " \"hasn't\",\n",
       " 'haven',\n",
       " \"haven't\",\n",
       " 'isn',\n",
       " \"isn't\",\n",
       " 'ma',\n",
       " 'mightn',\n",
       " \"mightn't\",\n",
       " 'mustn',\n",
       " \"mustn't\",\n",
       " 'needn',\n",
       " \"needn't\",\n",
       " 'shan',\n",
       " \"shan't\",\n",
       " 'shouldn',\n",
       " \"shouldn't\",\n",
       " 'wasn',\n",
       " \"wasn't\",\n",
       " 'weren',\n",
       " \"weren't\",\n",
       " 'won',\n",
       " \"won't\",\n",
       " 'wouldn',\n",
       " \"wouldn't\"]"
      ]
     },
     "execution_count": 10,
     "metadata": {},
     "output_type": "execute_result"
    }
   ],
   "source": [
    "from nltk.corpus import stopwords\n",
    "stop_words = stopwords.words('english')\n",
    "stop_words"
   ]
  },
  {
   "cell_type": "code",
   "execution_count": 11,
   "metadata": {},
   "outputs": [],
   "source": [
    "# function to remove stopwords\n",
    "def remove_stopwords(sen):\n",
    "    sen_new = \" \".join([i for i in sen if i not in stop_words])\n",
    "    return sen_new"
   ]
  },
  {
   "cell_type": "code",
   "execution_count": 12,
   "metadata": {},
   "outputs": [],
   "source": [
    "# remove stopwords from the sentences\n",
    "clean_sentences = [remove_stopwords(r.split()) for r in clean_sentences]"
   ]
  },
  {
   "cell_type": "code",
   "execution_count": 14,
   "metadata": {},
   "outputs": [],
   "source": [
    "# creating vectors for our sentences\n",
    "sentence_vectors = []\n",
    "for i in clean_sentences:\n",
    "  if len(i) != 0:\n",
    "    v = sum([word_embeddings.get(w, np.zeros((100,))) for w in i.split()])/(len(i.split())+0.001)\n",
    "  else:\n",
    "    v = np.zeros((100,))\n",
    "  sentence_vectors.append(v)"
   ]
  },
  {
   "cell_type": "code",
   "execution_count": 15,
   "metadata": {},
   "outputs": [],
   "source": [
    "# similarity matrix\n",
    "sim_mat = np.zeros([len(sentences), len(sentences)])"
   ]
  },
  {
   "cell_type": "code",
   "execution_count": 16,
   "metadata": {},
   "outputs": [],
   "source": [
    "#using Cosine Similarity \n",
    "from sklearn.metrics.pairwise import cosine_similarity"
   ]
  },
  {
   "cell_type": "code",
   "execution_count": 17,
   "metadata": {},
   "outputs": [],
   "source": [
    "for i in range(len(sentences)):\n",
    "  for j in range(len(sentences)):\n",
    "    if i != j:\n",
    "      sim_mat[i][j] = cosine_similarity(sentence_vectors[i].reshape(1,100), sentence_vectors[j].reshape(1,100))[0,0]\n"
   ]
  },
  {
   "cell_type": "code",
   "execution_count": 18,
   "metadata": {},
   "outputs": [],
   "source": [
    "#Applying PageRank Algorithm\n",
    "import networkx as nx\n",
    "\n",
    "nx_graph = nx.from_numpy_array(sim_mat)\n",
    "scores = nx.pagerank(nx_graph)"
   ]
  },
  {
   "cell_type": "code",
   "execution_count": 19,
   "metadata": {},
   "outputs": [],
   "source": [
    "#Summary Extraction\n",
    "ranked_sentences = sorted(((scores[i],s) for i,s in enumerate(sentences)), reverse=True)"
   ]
  },
  {
   "cell_type": "code",
   "execution_count": 28,
   "metadata": {},
   "outputs": [
    {
     "name": "stdout",
     "output_type": "stream",
     "text": [
      "1 this is to note that Article 238 deals with 9 part b state of free India which were the princely states of British India.\n",
      "2 not giving any permission for opening new business and industries.\n",
      "3 net income is less, growth is less, less jobs and unemployment are the major problem due to this Article.\n",
      "4 i.e.\n",
      "5 a normal home which now cost RS70lakh will then cost Rs1crore approximately\n",
      "It has preserve and protect the ecology environment and biodiversity in J&K to some extent.\n",
      "6 This was change in 1952 to government of state means the person\n",
      "\f",
      "recognize by the president upon recommendation of legislative assembly as Sardar-E-Riyasat (governor) for the timing in office.\n",
      "7 This purpose of this paper is intended towards exploring a lot of puzzling questions, starting from the history of Jammu and Kashmir, towards what was the need to incorporate this Article what circumstances led to the introduction of this Article, why this Article has been a controversial subject, also this paper would and ending with the conclusion which will tell us that the existence of Article 370 should be supported or not, in all Article 370would be dealt in every important aspect.\n",
      "8 This help local resident in making more profit.it also reduces competition.\n",
      "9 This Article along with Article5 that define the contours of Jurisdiction of Indian parliament regarding law making for the state, cannot be amended.\n",
      "10 There are no rights to panchayat in Kashmir, minorities in Kashmir (Hindu, Sikh) does not get 16% reservation.\n"
     ]
    }
   ],
   "source": [
    "# Extract top 10 sentences as the summary\n",
    "for i in range(10):\n",
    "  print(i+1,ranked_sentences[i][1])"
   ]
  },
  {
   "cell_type": "code",
   "execution_count": null,
   "metadata": {},
   "outputs": [],
   "source": []
  }
 ],
 "metadata": {
  "kernelspec": {
   "display_name": "Python 3",
   "language": "python",
   "name": "python3"
  },
  "language_info": {
   "codemirror_mode": {
    "name": "ipython",
    "version": 3
   },
   "file_extension": ".py",
   "mimetype": "text/x-python",
   "name": "python",
   "nbconvert_exporter": "python",
   "pygments_lexer": "ipython3",
   "version": "3.6.8"
  }
 },
 "nbformat": 4,
 "nbformat_minor": 2
}
